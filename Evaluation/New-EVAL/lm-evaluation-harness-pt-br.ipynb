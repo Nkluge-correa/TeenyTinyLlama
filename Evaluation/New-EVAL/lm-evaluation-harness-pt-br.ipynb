{
  "cells": [
    {
      "cell_type": "markdown",
      "metadata": {
        "id": "Ac6wadk3rmkK"
      },
      "source": [
        "# LM Evaluation Harness (by [EleutherAI](https://www.eleuther.ai/) & [eduagarcia](https://github.com/eduagarcia/lm-evaluation-harness-pt))\n",
        "\n",
        "This [`LM-Evaluation-Harness`](https://github.com/EleutherAI/lm-evaluation-harness) provides a unified framework to test generative language models on a large number of different evaluation tasks. For a complete list of available tasks, scroll to the bottom of the page.\n",
        "\n",
        "1. Clone the [lm-evaluation-harness](https://github.com/eduagarcia/lm-evaluation-harness-pt) and install the necessary libraries (`sentencepiece` is required for the Llama tokenizer)."
      ]
    },
    {
      "cell_type": "code",
      "execution_count": null,
      "metadata": {
        "id": "UA5I86u91e0A"
      },
      "outputs": [],
      "source": [
        "!git clone --branch main https://github.com/eduagarcia/lm-evaluation-harness-pt.git\n",
        "!cd lm-evaluation-harness-pt && pip install -e . -q\n",
        "!pip install cohere tiktoken sentencepiece -q"
      ]
    },
    {
      "cell_type": "markdown",
      "metadata": {
        "id": "PQtd-QRGwwGb"
      },
      "source": [
        "2. Run the evaluation on the selected tasks."
      ]
    },
    {
      "cell_type": "code",
      "execution_count": null,
      "metadata": {
        "id": "pnHoAVK25QZn"
      },
      "outputs": [],
      "source": [
        "!huggingface-cli login --token your_token_here\n",
        "!cd lm-evaluation-harness-pt && python lm_eval \\\n",
        "    --model huggingface \\\n",
        "    --model_args pretrained=\"nicholasKluge/TeenyTinyLlama-160m\",revision=\"main\" \\\n",
        "    --tasks enem_challenge,bluex,oab_exams,assin2_rte,assin2_sts,faquad_nli,hatebr_offensive,portuguese_hate_speech \\\n",
        "    --device cuda:0 \\\n",
        "    --output_path \"./\""
      ]
    },
    {
      "cell_type": "markdown",
      "source": [
        "3. Disconnect from the environment when the evaluation ends."
      ],
      "metadata": {
        "id": "cY27O1OKIbdH"
      }
    },
    {
      "cell_type": "code",
      "execution_count": null,
      "metadata": {
        "id": "nmG4sv06dRbP"
      },
      "outputs": [],
      "source": [
        "from google.colab import runtime\n",
        "runtime.unassign()"
      ]
    },
    {
      "cell_type": "markdown",
      "metadata": {
        "id": "4Bm78wiZ4Own"
      },
      "source": [
        "## Task Table 📚\n",
        "\n",
        "| Task Name                            | Metrics  |\n",
        "|--------------------------------------|----------|\n",
        "| enem_challenge (3-shot)              | acc      |\n",
        "| bluex          (3-shot)              | acc      |\n",
        "| oab_exams      (3-shot)              | acc      |\n",
        "| assin2_rte                 (15-shot) | f1_macro |\n",
        "| assin2_sts                 (15-shot) | pearson  |\n",
        "| faquad_nli                 (15-shot) | f1_macro |\n",
        "| HateBR                     (25-shot) | f1_macro |\n",
        "| portuguese_hate_speech     (25-shot) | f1_macro |\n",
        "| tweetsentbr     (25-shot)            | f1_macro |"
      ]
    }
  ],
  "metadata": {
    "accelerator": "GPU",
    "colab": {
      "machine_shape": "hm",
      "provenance": []
    },
    "kernelspec": {
      "display_name": "Python 3",
      "name": "python3"
    },
    "language_info": {
      "name": "python"
    }
  },
  "nbformat": 4,
  "nbformat_minor": 0
}