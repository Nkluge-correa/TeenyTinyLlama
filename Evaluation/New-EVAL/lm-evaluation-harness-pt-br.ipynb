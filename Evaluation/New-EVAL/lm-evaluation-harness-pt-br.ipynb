{
  "cells": [
    {
      "cell_type": "markdown",
      "metadata": {
        "id": "Ac6wadk3rmkK"
      },
      "source": [
        "# LM Evaluation Harness (by [EleutherAI](https://www.eleuther.ai/) & [eduagarcia](https://github.com/eduagarcia/lm-evaluation-harness-pt))\n",
        "\n",
        "<a href=\"https://colab.research.google.com/drive/1m6Oqey4P9ShYTO62yRq7wrM_eEsvFJ9D\" target=\"_blank\">\n",
        "  <img src=\"https://colab.research.google.com/assets/colab-badge.svg\" alt=\"Open In Colab\">\n",
        "</a>\n",
        "\n",
        "This [`LM-Evaluation-Harness`](https://github.com/EleutherAI/lm-evaluation-harness) provides a unified framework to test generative language models on a large number of different evaluation tasks. For a complete list of available tasks, scroll to the bottom of the page.\n",
        "\n",
        "1. Clone the [lm-evaluation-harness](https://github.com/eduagarcia/lm-evaluation-harness-pt) and install the necessary libraries (`sentencepiece` is required for the Llama tokenizer)."
      ]
    },
    {
      "cell_type": "code",
      "execution_count": null,
      "metadata": {
        "id": "UA5I86u91e0A"
      },
      "outputs": [],
      "source": [
        "!git clone --branch main https://github.com/eduagarcia/lm-evaluation-harness-pt.git\n",
        "!cd lm-evaluation-harness-pt && pip install -e . -q\n",
        "!pip install cohere tiktoken sentencepiece -q"
      ]
    },
    {
      "cell_type": "markdown",
      "metadata": {
        "id": "PQtd-QRGwwGb"
      },
      "source": [
        "2. Run the evaluation on the selected tasks."
      ]
    },
    {
      "cell_type": "code",
      "execution_count": null,
      "metadata": {
        "id": "pnHoAVK25QZn"
      },
      "outputs": [],
      "source": [
        "!cd lm-evaluation-harness-pt && python lm_eval \\\n",
        "    --model huggingface \\\n",
        "    --model_args pretrained=\"nicholasKluge/TeenyTinyLlama-160m\",revision=\"main\" \\\n",
        "    --tasks \"assin2_rte,assin2_sts,bluex,enem_challenge,faquad_nli,hatebr_offensive,oab_exams\" \\\n",
        "    --num_fewshot \"15,15,3,3,15,25,3\" \\\n",
        "    --batch_size \"auto\"\n",
        "    --device cuda:0 \\\n",
        "    --output_path \"./\""
      ]
    },
    {
      "cell_type": "markdown",
      "metadata": {
        "id": "cY27O1OKIbdH"
      },
      "source": [
        "3. Disconnect from the environment when the evaluation ends."
      ]
    },
    {
      "cell_type": "code",
      "execution_count": null,
      "metadata": {
        "id": "nmG4sv06dRbP"
      },
      "outputs": [],
      "source": [
        "from google.colab import runtime\n",
        "runtime.unassign()"
      ]
    }
  ],
  "metadata": {
    "accelerator": "GPU",
    "colab": {
      "machine_shape": "hm",
      "provenance": []
    },
    "kernelspec": {
      "display_name": "Python 3",
      "name": "python3"
    },
    "language_info": {
      "name": "python"
    }
  },
  "nbformat": 4,
  "nbformat_minor": 0
}
